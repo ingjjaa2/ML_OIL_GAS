{
 "cells": [
  {
   "cell_type": "markdown",
   "metadata": {},
   "source": [
    "# Data Structures"
   ]
  },
  {
   "cell_type": "markdown",
   "metadata": {},
   "source": [
    "#### List: allow to store and manipulate collection of items, it is mutable and ordered, []"
   ]
  },
  {
   "cell_type": "code",
   "execution_count": 5,
   "metadata": {},
   "outputs": [
    {
     "name": "stdout",
     "output_type": "stream",
     "text": [
      "[1, 2, 3, 4, 5]\n",
      "['H', 'e', 'l', 'l', 'o']\n",
      "[1, 2, 3, 4, 5, 6]\n",
      "['H', 'e', 'l', 'l', 'o', 6, 7, 8]\n",
      "[1, 2, 3, 30, 4, 5, 6]\n",
      "index 3 30\n",
      "slicing [2, 3]\n",
      "The index for 3  is : 2\n",
      "3 has 3 occurrance : 1 \n",
      "the list has 7\n",
      "[1, 2, 30, 4, 5, 6]\n",
      "[1, 2, 30, 4, 5]\n",
      "[1, 2, 30, 5]\n"
     ]
    }
   ],
   "source": [
    "# Create or Add Data \n",
    "\n",
    "list_a = [1,2,3,4,5]\n",
    "\n",
    "print(list_a)\n",
    "\n",
    "list_b = list(\"Hello\")\n",
    "\n",
    "print(list_b)\n",
    "\n",
    "#append: add an element to the end of a list\n",
    "\n",
    "list_a.append(6)\n",
    "\n",
    "print(list_a)\n",
    "\n",
    "#extend: add multiples elements to the end of a list\n",
    "\n",
    "list_b.extend([6,7,8])\n",
    "\n",
    "print(list_b)\n",
    "\n",
    "# insert: add one element to a list in specific index (index,value)\n",
    "\n",
    "list_a.insert(3,30)\n",
    "\n",
    "print(list_a)\n",
    "\n",
    "# READ\n",
    "\n",
    "#get By Index position\n",
    "\n",
    "print(f\"index 3 {list_a[3]}\")\n",
    "\n",
    "\n",
    "#get elements by slicing\n",
    "print(f\"slicing {list_a[1:3]}\")\n",
    "\n",
    "\n",
    "# Index: return the element at first occurrance\n",
    "\n",
    "print(f\"The index for 3  is : {list_a.index(3)}\")\n",
    "\n",
    "#Count: get the number of apperance of a value\n",
    "\n",
    "print(f\"3 has 3 occurrance : {list_a.count(3)} \")\n",
    "\n",
    "#len: get the number of element of a list \n",
    "\n",
    "print(f\"the list has {len(list_a)}\")\n",
    "\n",
    "#DETELETE\n",
    "\n",
    "#Remove remove the first times a element exist in a list \n",
    "list_a.remove(3)\n",
    "print(list_a)\n",
    "\n",
    "#POP remove a element at specific index and return a new element (default index last)\n",
    "\n",
    "list_a.pop()\n",
    "print(list_a)\n",
    "list_a.pop(-2)\n",
    "print(list_a)\n",
    "\n",
    "\n"
   ]
  },
  {
   "cell_type": "markdown",
   "metadata": {},
   "source": [
    "### Tuples : immutable sequence type that can hold a collection of elements no ordered ()"
   ]
  },
  {
   "cell_type": "code",
   "execution_count": 4,
   "metadata": {},
   "outputs": [
    {
     "name": "stdout",
     "output_type": "stream",
     "text": [
      "(1, 2, 3, 4, 5, 6)\n",
      "1\n",
      "(2, 3)\n",
      "1\n",
      "3\n"
     ]
    }
   ],
   "source": [
    "\n",
    "#Create or ADD\n",
    "\n",
    "tuple1 = (1, 2, 3, 4, 5)\n",
    "tuple_a = (1, 2, 3)\n",
    "tuple_b = (4, 5, 6)\n",
    "concatenated_tuple = tuple_a + tuple_b\n",
    "\n",
    "print(concatenated_tuple)\n",
    "\n",
    "# READ \n",
    "\n",
    "#get By Index position\n",
    "print(tuple1[0])\n",
    "\n",
    "#get elements by slicing\n",
    "print(tuple1[1:3]) \n",
    "\n",
    "#Count: get the number of apperance of a value\n",
    "print(tuple1.count(2)) \n",
    "\n",
    "# Index: return the element at first occurrance\n",
    "print(tuple1.index(4))\n",
    "\n",
    "# Update/Delete : Since tuples are immutable, it cannot directly update to add or remove individual elements\n"
   ]
  },
  {
   "cell_type": "markdown",
   "metadata": {},
   "source": [
    "### Sets: is an unordered collection of unique elements {}"
   ]
  },
  {
   "cell_type": "code",
   "execution_count": 8,
   "metadata": {},
   "outputs": [
    {
     "name": "stdout",
     "output_type": "stream",
     "text": [
      "1\n",
      "2\n",
      "3\n",
      "1\n",
      "{1, 2, 3, 4}\n",
      "{1, 3, 4}\n"
     ]
    }
   ],
   "source": [
    "# Create\n",
    "\n",
    "my_set = {1, 2, 3, 2}\n",
    "\n",
    "# Read: Sets are unordered, so it cannot access elements by index. It can only allow acces by loop (elemenet by element) or convert to list\n",
    "\n",
    "for element in my_set:\n",
    "    print(element)\n",
    "\n",
    "set_list = list(my_set)\n",
    "print(set_list[0])\n",
    "\n",
    "# Update: Sets are mutable, which allow to add at last possition or remove elements by value\n",
    "\n",
    "#ADD \n",
    "my_set.add(4)\n",
    "print(my_set)\n",
    "\n",
    "#Remove all elements that are equale to the element submited to remove\n",
    "my_set.remove(2)\n",
    "print(my_set)\n",
    "\n",
    "\n",
    "\n"
   ]
  },
  {
   "cell_type": "markdown",
   "metadata": {},
   "source": [
    "### Dictionaries : is an unordered collection of key-value pairs. they are mutable, so it is possible to add, or remove key-value pairs. Each key in a dictionary must be unique, and it is used to access its corresponding value {}"
   ]
  },
  {
   "cell_type": "code",
   "execution_count": 19,
   "metadata": {},
   "outputs": [
    {
     "name": "stdout",
     "output_type": "stream",
     "text": [
      "{'name': 'John', 'age': 25}\n",
      "John\n",
      "name\n",
      "age\n",
      "John\n",
      "25\n",
      "{'name': 'John', 'age': 26}\n",
      "{'name': 'John', 'age': 28}\n",
      "{'name': 'John'}\n"
     ]
    },
    {
     "data": {
      "text/plain": [
       "'Unknown'"
      ]
     },
     "execution_count": 19,
     "metadata": {},
     "output_type": "execute_result"
    }
   ],
   "source": [
    "# Create\n",
    "\n",
    "my_dict = {\"name\": \"John\", \"age\": 25}\n",
    "print(my_dict) \n",
    "\n",
    "#Read\n",
    "print(my_dict[\"name\"]) \n",
    "\n",
    "for k in my_dict.keys():\n",
    "    print(k)\n",
    "\n",
    "for k in my_dict.values():\n",
    "    print(k)\n",
    "\n",
    "# Update\n",
    "\n",
    "#ADD\n",
    "my_dict[\"age\"] = 26\n",
    "print(my_dict) \n",
    "\n",
    "my_dict[\"age\"] = 28\n",
    "print(my_dict)\n",
    "\n",
    "#Remove\n",
    "my_dict.pop(\"age\")\n",
    "print(my_dict)\n",
    "\n",
    "#Avoid error for keys does not exist \n",
    "\n",
    "my_dict.get(\"age\", \"Unknown\")\n",
    "\n"
   ]
  },
  {
   "cell_type": "markdown",
   "metadata": {},
   "source": [
    "# Data casting involves converting one data type to another"
   ]
  },
  {
   "cell_type": "code",
   "execution_count": 32,
   "metadata": {},
   "outputs": [
    {
     "name": "stdout",
     "output_type": "stream",
     "text": [
      "42\n",
      "42.0\n",
      "42\n",
      "42.0\n",
      "True\n",
      "[100, 200, 300, 400, 500]\n",
      "[100, 200, 300, 400, 500]\n",
      "[1, 2, 3]\n",
      "[1, 2, 3, 4, 5]\n"
     ]
    }
   ],
   "source": [
    "# Integer to String/Float\n",
    "\n",
    "number = 42\n",
    "string_number = str(number)\n",
    "print(string_number)\n",
    "float_number = float(number)\n",
    "print(float_number)\n",
    "\n",
    "# String to Integer/Float:\n",
    "\n",
    "string_number = \"42\"\n",
    "number = int(string_number)\n",
    "print(number) \n",
    "number = float(string_number)\n",
    "print(number) \n",
    "\n",
    "#string to boolean\n",
    "bool_value = bool(\"true\")\n",
    "print(bool_value)\n",
    "\n",
    "# String to List\n",
    "string = \"Hello, World!\"\n",
    "list_characters = list(string)\n",
    "\n",
    "raw = \"100,200,300,400,500\"\n",
    "list_test = raw.split(',')\n",
    "list_test = list(map(lambda x:int(x),list_test))\n",
    "print(list_test)\n",
    "list_test = [int(x) for x in raw.split(',')]\n",
    "print(list_test)\n",
    "\n",
    "#Set To list\n",
    "my_set = {1, 2, 3, 2}\n",
    "set_list = list(my_set)\n",
    "print(set_list)\n",
    "\n",
    "#Tuppla To list\n",
    "my_tuple = (1, 2, 3, 4, 5)\n",
    "my_list = list(my_tuple)\n",
    "print(my_list)\n"
   ]
  },
  {
   "cell_type": "markdown",
   "metadata": {},
   "source": [
    "##  Loops: are used to repeat a block of code multiple times. There are two types of loops in Python: for loops and while loops"
   ]
  },
  {
   "cell_type": "code",
   "execution_count": 1,
   "metadata": {},
   "outputs": [
    {
     "name": "stdout",
     "output_type": "stream",
     "text": [
      "apple\n",
      "banana\n",
      "cherry\n",
      "0\n",
      "1\n",
      "2\n",
      "3\n",
      "4\n"
     ]
    }
   ],
   "source": [
    "# Loop\n",
    "\n",
    "fruits = [\"apple\", \"banana\", \"cherry\"]\n",
    "for fruit in fruits:\n",
    "    print(fruit)\n",
    "\n",
    "\n",
    "#while\n",
    "\n",
    "count = 0\n",
    "while count < 5:\n",
    "    print(count)\n",
    "    count += 1"
   ]
  },
  {
   "cell_type": "markdown",
   "metadata": {},
   "source": [
    "## In Line functions"
   ]
  },
  {
   "cell_type": "code",
   "execution_count": 3,
   "metadata": {},
   "outputs": [
    {
     "name": "stdout",
     "output_type": "stream",
     "text": [
      "[1, 4, 9, 16, 25]\n",
      "[1, 2, 3, 4]\n",
      "15\n"
     ]
    }
   ],
   "source": [
    "## Map\n",
    "\n",
    "numbers = [1, 2, 3, 4, 5]\n",
    "squared_numbers = list(map(lambda x: x**2, numbers))\n",
    "print(squared_numbers)\n",
    "\n",
    "\n",
    "#Filter\n",
    "\n",
    "numbers = [1, 2, 3, 4, 5, 6, 7, 8, 9, 10]\n",
    "even_numbers = list(filter(lambda x: x < 5, numbers))\n",
    "print(even_numbers)\n",
    "\n",
    "\n",
    "#Reduce\n",
    "\n",
    "from functools import reduce\n",
    "\n",
    "numbers = [1, 2, 3, 4, 5]\n",
    "sum_of_numbers = reduce(lambda x, y: x + y, numbers)\n",
    "print(sum_of_numbers)\n"
   ]
  },
  {
   "cell_type": "markdown",
   "metadata": {},
   "source": [
    "## Math Operations"
   ]
  },
  {
   "cell_type": "code",
   "execution_count": 6,
   "metadata": {},
   "outputs": [
    {
     "name": "stdout",
     "output_type": "stream",
     "text": [
      "8\n",
      "2\n",
      "15\n",
      "1.6666666666666667\n",
      "1\n",
      "2\n",
      "5\n",
      "4.0\n",
      "8\n",
      "2.0\n",
      "0.7071067811865475 0.7071067811865476 0.9999999999999999\n",
      "0.7071067811865475 0.7071067811865476 0.9999999999999999\n"
     ]
    }
   ],
   "source": [
    "# Addition\n",
    "\n",
    "a = 5\n",
    "b = 3\n",
    "result = a + b\n",
    "print(result)  # Output: 8\n",
    "\n",
    "# Subtraction\n",
    "\n",
    "a = 5\n",
    "b = 3\n",
    "result = a - b\n",
    "print(result)  # Output: 2\n",
    "\n",
    "# Multiplication\n",
    "\n",
    "a = 5\n",
    "b = 3\n",
    "result = a * b\n",
    "print(result)  # Output: 15\n",
    "\n",
    "# Division\n",
    "\n",
    "a = 5\n",
    "b = 3\n",
    "result = a / b\n",
    "print(result)  # Output: 1.6666666666666667\n",
    "\n",
    "# Integer Division (Floor Division):\n",
    "\n",
    "a = 5\n",
    "b = 3\n",
    "result = a // b\n",
    "print(result)  # Output: 1\n",
    "\n",
    "\n",
    "# Modulo (Remainder)\n",
    "\n",
    "a = 5\n",
    "b = 3\n",
    "result = a % b\n",
    "print(result)  # Output: 2\n",
    "\n",
    "# Absolute Value:\n",
    "\n",
    "x = -5\n",
    "result = abs(x)\n",
    "print(result)  # Output: 5\n",
    "\n",
    "# Square Root\n",
    "\n",
    "import math\n",
    "\n",
    "x = 16\n",
    "result = math.sqrt(x)\n",
    "print(result)  # Output: 4.0\n",
    "\n",
    "# Exponentiation:\n",
    "\n",
    "a = 2\n",
    "b = 3\n",
    "result = a ** b\n",
    "print(result)  # Output: 8\n",
    "\n",
    "import math\n",
    "\n",
    "num = 8\n",
    "third_root = math.pow(num, 1/3)\n",
    "print(third_root)  # Output: 2.0\n",
    "\n",
    "# Trigonometric Functions\n",
    "\n",
    "import math\n",
    "\n",
    "angle = math.pi / 4  # 45 degrees\n",
    "sin_value = math.sin(angle)\n",
    "cos_value = math.cos(angle)\n",
    "tan_value = math.tan(angle)\n",
    "print(sin_value, cos_value, tan_value)  # Output: 0.7071067811865476 0.7071067811865475 0.9999999999999999\n",
    "\n",
    "angle_degrees = 45  # Input angle in degrees\n",
    "\n",
    "# Convert degrees to radians\n",
    "angle_radians = math.radians(angle_degrees)\n",
    "\n",
    "# Calculate trigonometric functions\n",
    "sin_value = math.sin(angle_radians)\n",
    "cos_value = math.cos(angle_radians)\n",
    "tan_value = math.tan(angle_radians)\n",
    "\n",
    "print(sin_value, cos_value, tan_value)"
   ]
  },
  {
   "cell_type": "markdown",
   "metadata": {},
   "source": [
    "## Numpy: is a powerful Python library for numerical computing. It provides a multidimensional array object, various mathematical functions, and tools for working with arrays"
   ]
  },
  {
   "cell_type": "code",
   "execution_count": null,
   "metadata": {},
   "outputs": [],
   "source": [
    "import numpy as np\n",
    "\n",
    "#Creating NumPy Arrays:\n",
    "\n",
    "arr0d = np.array(30)\n",
    "\n",
    "print(arr0d.ndim)\n",
    "\n",
    "# Creating a 1D array\n",
    "arr1d = np.array([1, 2, 3, 4, 5])\n",
    "\n",
    "print(arr1d.ndim)\n",
    "\n",
    "# Creating a 2D array\n",
    "arr2d = np.array([[1, 2, 3], [4, 5, 6]])\n",
    "print(arr2d.ndim)\n",
    "\n",
    "#Array Arithmetic\n",
    "\n",
    "a = np.array([1, 2, 3])\n",
    "b = np.array([4, 5, 6])\n",
    "\n",
    "# Addition\n",
    "addition = a + b\n",
    "print(addition)\n",
    "\n",
    "# Subtraction\n",
    "subtraction = a - b\n",
    "print(subtraction)\n",
    "\n",
    "# Multiplication\n",
    "multiplication = a * b\n",
    "print(multiplication)\n",
    "\n",
    "# Division\n",
    "division = a / b\n",
    "print(division)\n",
    "\n",
    "# Element-wise exponentiation\n",
    "exponentiation = a ** b\n",
    "print(exponentiation)\n",
    "\n",
    "#Multiply a Number with an array\n",
    "c = a * 3\n",
    "print(c)\n",
    "\n",
    "#Divide a Number with an array\n",
    "d = a / 2\n",
    "print(d)\n",
    "\n",
    "#Add a Number with an array\n",
    "e = a + 20\n",
    "print(e)\n",
    "\n",
    "#Subtraction a Number with an array\n",
    "f = a - 5\n",
    "print(f)\n",
    "\n",
    "#Array Indexing and Slicing\n",
    "arr = np.array([1, 2, 3, 4, 5])\n",
    "\n",
    "# Accessing individual elements\n",
    "print(arr[0])     \n",
    "print(arr[2:4])  \n",
    "\n",
    "# Modifying elements\n",
    "arr[1] = 10\n",
    "\n",
    "# Slicing\n",
    "print(arr[1:])\n",
    "\n",
    "\n",
    "# Array Shape and Size\n",
    "arr = np.array([[1, 2, 3], [4, 5, 6]])\n",
    "print(arr.shape)\n",
    "print(arr.size)\n",
    "\n",
    "\n",
    "# Reduces Mathematical Functions\n",
    "\n",
    "# Sum of array elements\n",
    "print(np.sum(arr)) \n",
    "\n",
    "# Mean of array elements\n",
    "print(np.mean(arr)) \n",
    "\n",
    "# Maximum and minimum values\n",
    "print(np.max(arr))    \n",
    "print(np.min(arr)) \n",
    "\n",
    "# Square root of array elements\n",
    "arr2 = np.array([1, 2, 3, 4, 5])\n",
    "print(np.sqrt(arr2))  "
   ]
  },
  {
   "cell_type": "markdown",
   "metadata": {},
   "source": [
    "## Function is a block of reusable code that performs a specific task. It allows you to organize your code into modular and reusable components"
   ]
  },
  {
   "cell_type": "code",
   "execution_count": 18,
   "metadata": {},
   "outputs": [
    {
     "name": "stdout",
     "output_type": "stream",
     "text": [
      "My name is Juan, with 30 year old, i live in default direction\n"
     ]
    }
   ],
   "source": [
    "def function_name(name, age, direction = \"default direction\"):\n",
    "    print(f\"My name is {name}, with {age} year old, i live in {direction}\")\n",
    "\n",
    "\n",
    "function_name(\"Juan\",30)"
   ]
  }
 ],
 "metadata": {
  "kernelspec": {
   "display_name": "base",
   "language": "python",
   "name": "python3"
  },
  "language_info": {
   "codemirror_mode": {
    "name": "ipython",
    "version": 3
   },
   "file_extension": ".py",
   "mimetype": "text/x-python",
   "name": "python",
   "nbconvert_exporter": "python",
   "pygments_lexer": "ipython3",
   "version": "3.11.4"
  },
  "orig_nbformat": 4
 },
 "nbformat": 4,
 "nbformat_minor": 2
}
